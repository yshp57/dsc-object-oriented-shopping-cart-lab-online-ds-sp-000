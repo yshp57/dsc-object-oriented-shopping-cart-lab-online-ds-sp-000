{
 "cells": [
  {
   "cell_type": "markdown",
   "metadata": {},
   "source": [
    "# Object Oriented Shopping Cart - Lab"
   ]
  },
  {
   "cell_type": "markdown",
   "metadata": {},
   "source": [
    "## Introduction\n",
    "In this lab, you'll be mimicking the functionality of a shopping cart with your knowledge of object-oriented programming in Python. Your shopping cart will be able to add items of different quantities and prices to the cart, calculate discounts, keep track of what items have been added, and void transactions."
   ]
  },
  {
   "cell_type": "markdown",
   "metadata": {},
   "source": [
    "## Objectives\n",
    "\n",
    "You will be able to:\n",
    "\n",
    "* Define and call an instance method\n",
    "* Define and access instance attributes\n",
    "* Call instance methods inside of other instance methods\n",
    "* Create methods that calculate statistics of the attributes of an object\n",
    "* Create a domain model using OOP"
   ]
  },
  {
   "cell_type": "markdown",
   "metadata": {},
   "source": [
    "## Instructions"
   ]
  },
  {
   "cell_type": "markdown",
   "metadata": {},
   "source": [
    "In this lab, you'll practice your object orientated programming skills by modifying the **shopping_cart.py** file.\n",
    "\n",
    "To start, you'll once again set this notebook to `autoreload` packages so that when you update **shopping_cart.py**, you can experiment with the effects here. Remember that while the package will be reloaded, you will need to reinitialize your class instance. Here's an example to get you started:"
   ]
  },
  {
   "cell_type": "code",
   "execution_count": 1,
   "metadata": {},
   "outputs": [],
   "source": [
    "%load_ext autoreload\n",
    "%autoreload 2"
   ]
  },
  {
   "cell_type": "code",
   "execution_count": 26,
   "metadata": {},
   "outputs": [],
   "source": [
    "# Import your custom package\n",
    "from shopping_cart import ShoppingCart"
   ]
  },
  {
   "cell_type": "code",
   "execution_count": 27,
   "metadata": {},
   "outputs": [],
   "source": [
    "# Initialize an instance of our shopping cart class\n",
    "shopping_cart = ShoppingCart()"
   ]
  },
  {
   "cell_type": "markdown",
   "metadata": {},
   "source": [
    "## Add an Initialization Behavior to the `ShoppingCart()` class\n",
    "\n",
    "Update your **shopping_cart.py** file to include an `__init__` method. This should define three default attributes: `total`, which should be set to 0; `employee_discount`, set to `None`; and `items`, set to a blank list. The line of code below should work and produce the previewed output once you do this."
   ]
  },
  {
   "cell_type": "code",
   "execution_count": 28,
   "metadata": {},
   "outputs": [
    {
     "name": "stdout",
     "output_type": "stream",
     "text": [
      "0\n",
      "None\n",
      "[]\n"
     ]
    }
   ],
   "source": [
    "# Add a line to reinitialize an instance of the class\n",
    "shopping_cart = ShoppingCart() \n",
    "print(shopping_cart.total)\n",
    "print(shopping_cart.employee_discount)\n",
    "print(shopping_cart.items)"
   ]
  },
  {
   "cell_type": "markdown",
   "metadata": {},
   "source": [
    "## Add an `add_item()` method \n",
    "\n",
    "Define an instance method called `.add_item()` that will add an item to our cart. It should take in the name of an item, its price, and an optional quantity. The method should increase the shopping cart's total by the appropriate amount and return the new total for the shopping cart. \n",
    "\n",
    "> **Hint:** think about how you would like to keep this information in your list of items. Can we imagine wanting to ever check the price of an individual item after we've added it to our cart? What data type do we know of that can associate the item name with its price?"
   ]
  },
  {
   "cell_type": "code",
   "execution_count": 29,
   "metadata": {},
   "outputs": [
    {
     "data": {
      "text/plain": [
       "45.99"
      ]
     },
     "execution_count": 29,
     "metadata": {},
     "output_type": "execute_result"
    }
   ],
   "source": [
    "shopping_cart.add_item(\"rainbow sandals\", 45.99) # 45.99"
   ]
  },
  {
   "cell_type": "code",
   "execution_count": 30,
   "metadata": {},
   "outputs": [
    {
     "data": {
      "text/plain": [
       "56.49"
      ]
     },
     "execution_count": 30,
     "metadata": {},
     "output_type": "execute_result"
    }
   ],
   "source": [
    "shopping_cart.add_item(\"agyle socks\", 10.50) # 56.49"
   ]
  },
  {
   "cell_type": "code",
   "execution_count": 31,
   "metadata": {},
   "outputs": [
    {
     "data": {
      "text/plain": [
       "206.49"
      ]
     },
     "execution_count": 31,
     "metadata": {},
     "output_type": "execute_result"
    }
   ],
   "source": [
    "shopping_cart.add_item(\"jeans\", 50.00, 3) # 206.49"
   ]
  },
  {
   "cell_type": "markdown",
   "metadata": {},
   "source": [
    "## Add Summary Methods `mean_item_price()` and `median_item_price()` \n",
    "\n",
    "Define two more instance methods: `.mean_item_price()` and `.median_item_price()`, which should return the average price per item and the median price of the items in your cart, respectively. \n",
    "\n",
    "> **Remember:** the mean is the average price per item and to find the median we must do three things: \n",
    "\n",
    "* First, put all numbers in our list in ascending order (smallest to greatest)\n",
    "* Then check to see if there is an odd number of elements in our list. If so, the middle number is the median\n",
    "* Finally, if there is an even number of elements in the list, the median will be the average or mean of the two center elements (e.g. given the list `[1, 2, 3, 4]` the elements 2 and 3 are the two center elements and the median would be (2 + 3)/2 or 2.5)  "
   ]
  },
  {
   "cell_type": "code",
   "execution_count": 34,
   "metadata": {},
   "outputs": [
    {
     "data": {
      "text/plain": [
       "41.298"
      ]
     },
     "execution_count": 34,
     "metadata": {},
     "output_type": "execute_result"
    }
   ],
   "source": [
    "shopping_cart.mean_item_price() # 41.29"
   ]
  },
  {
   "cell_type": "code",
   "execution_count": 38,
   "metadata": {},
   "outputs": [
    {
     "data": {
      "text/plain": [
       "50.0"
      ]
     },
     "execution_count": 38,
     "metadata": {},
     "output_type": "execute_result"
    }
   ],
   "source": [
    "shopping_cart.median_item_price() # 50.00"
   ]
  },
  {
   "cell_type": "markdown",
   "metadata": {},
   "source": [
    "## Add an `apply_discount()` method \n",
    "\n",
    "Now, define an instance method called `.apply_discount()` that applies a discount if one is provided and returns the discounted total. For example, if you initialize a new shopping cart with a discount of 20% then our total should be discounted in the amount of 20%. So, if our total were $ \\$100 $, after the discount you only would owe $ \\$80 $.\n",
    "\n",
    "If our shopping cart does not have an employee discount, then it should return a string saying: `\"Sorry, there is no discount to apply to your cart :(\"`"
   ]
  },
  {
   "cell_type": "code",
   "execution_count": 44,
   "metadata": {},
   "outputs": [
    {
     "name": "stdout",
     "output_type": "stream",
     "text": [
      "45.0\n",
      "60.0\n",
      "48.0\n",
      "1060.0\n",
      "848.0\n",
      "Sorry, there is no discount to apply to your cart :(\n"
     ]
    }
   ],
   "source": [
    "discount_shopping_cart = ShoppingCart(emp_discount=20)\n",
    "print(discount_shopping_cart.add_item(\"rainbow sandals\", 45.00)) # 45.00\n",
    "print(discount_shopping_cart.add_item(\"agyle socks\", 15.00)) # 60.00\n",
    "print(discount_shopping_cart.apply_discount()) # 48.00\n",
    "print(discount_shopping_cart.add_item(\"macbook air\", 1000.00)) # 1060.00\n",
    "print(discount_shopping_cart.apply_discount()) # 848.00\n",
    "print(shopping_cart.apply_discount()) # Sorry, there is no discount to apply to your cart :("
   ]
  },
  {
   "cell_type": "markdown",
   "metadata": {},
   "source": [
    "## Add a `void_last_item()` method"
   ]
  },
  {
   "cell_type": "markdown",
   "metadata": {},
   "source": [
    "Finally, you are missing one piece of functionality. What if someone just accidentally added something to their cart or decided that this item is too expensive for their budget? Define a method called `void_last_item()` that removes the last item from the shopping cart and updates its total.  If there are no items in the shopping cart, `void_last_item()` should return `\"There are no items in your cart!\"`."
   ]
  },
  {
   "cell_type": "code",
   "execution_count": 49,
   "metadata": {},
   "outputs": [
    {
     "ename": "IndexError",
     "evalue": "pop from empty list",
     "output_type": "error",
     "traceback": [
      "\u001b[0;31m---------------------------------------------------------------------------\u001b[0m",
      "\u001b[0;31mIndexError\u001b[0m                                Traceback (most recent call last)",
      "\u001b[0;32m<ipython-input-49-f0ee45b3a1e4>\u001b[0m in \u001b[0;36m<module>\u001b[0;34m\u001b[0m\n\u001b[0;32m----> 1\u001b[0;31m \u001b[0mshopping_cart\u001b[0m\u001b[0;34m.\u001b[0m\u001b[0mvoid_last_item\u001b[0m\u001b[0;34m(\u001b[0m\u001b[0;34m)\u001b[0m\u001b[0;34m\u001b[0m\u001b[0;34m\u001b[0m\u001b[0m\n\u001b[0m\u001b[1;32m      2\u001b[0m \u001b[0mshopping_cart\u001b[0m\u001b[0;34m.\u001b[0m\u001b[0mtotal\u001b[0m \u001b[0;31m# 156.49\u001b[0m\u001b[0;34m\u001b[0m\u001b[0;34m\u001b[0m\u001b[0m\n",
      "\u001b[0;32m~/Documents/DSBootcamp/V2/Module2/Section10/dsc-object-oriented-shopping-cart-lab-online-ds-sp-000/shopping_cart.py\u001b[0m in \u001b[0;36mvoid_last_item\u001b[0;34m(self)\u001b[0m\n\u001b[1;32m     41\u001b[0m \u001b[0;34m\u001b[0m\u001b[0m\n\u001b[1;32m     42\u001b[0m     \u001b[0;32mdef\u001b[0m \u001b[0mvoid_last_item\u001b[0m\u001b[0;34m(\u001b[0m\u001b[0mself\u001b[0m\u001b[0;34m)\u001b[0m\u001b[0;34m:\u001b[0m\u001b[0;34m\u001b[0m\u001b[0;34m\u001b[0m\u001b[0m\n\u001b[0;32m---> 43\u001b[0;31m         \u001b[0mself\u001b[0m\u001b[0;34m.\u001b[0m\u001b[0mitems\u001b[0m \u001b[0;34m=\u001b[0m \u001b[0mself\u001b[0m\u001b[0;34m.\u001b[0m\u001b[0mitems\u001b[0m\u001b[0;34m.\u001b[0m\u001b[0mpop\u001b[0m\u001b[0;34m(\u001b[0m\u001b[0;34m-\u001b[0m\u001b[0;36m1\u001b[0m\u001b[0;34m)\u001b[0m\u001b[0;34m\u001b[0m\u001b[0;34m\u001b[0m\u001b[0m\n\u001b[0m",
      "\u001b[0;31mIndexError\u001b[0m: pop from empty list"
     ]
    }
   ],
   "source": [
    "shopping_cart.void_last_item()\n",
    "shopping_cart.total # 156.49"
   ]
  },
  {
   "cell_type": "markdown",
   "metadata": {},
   "source": [
    "## Summary\n",
    "In this lab, you practiced using instance methods to mimic the functionality of a shopping cart as well as defined methods that give you the mean and median prices of all the items in the cart. "
   ]
  }
 ],
 "metadata": {
  "kernelspec": {
   "display_name": "Python 3",
   "language": "python",
   "name": "python3"
  },
  "language_info": {
   "codemirror_mode": {
    "name": "ipython",
    "version": 3
   },
   "file_extension": ".py",
   "mimetype": "text/x-python",
   "name": "python",
   "nbconvert_exporter": "python",
   "pygments_lexer": "ipython3",
   "version": "3.6.9"
  }
 },
 "nbformat": 4,
 "nbformat_minor": 2
}
